{
 "cells": [
  {
   "cell_type": "markdown",
   "metadata": {},
   "source": [
    "# Apuntes de Mysql"
   ]
  },
  {
   "cell_type": "markdown",
   "metadata": {},
   "source": [
    "Estos son los apuntes de SQL  \n",
    "Para ejecutar un script sql sin ingresar al terminal del gestor de la base de datos:  \n",
    "```bash\n",
    "$ sqlite3 database.db \".read SqlScripts/<nameScript>.sql\"\n",
    "```"
   ]
  },
  {
   "cell_type": "markdown",
   "metadata": {},
   "source": [
    "## 11. Crear tablas "
   ]
  },
  {
   "cell_type": "code",
   "execution_count": 2,
   "metadata": {},
   "outputs": [
    {
     "name": "stdout",
     "output_type": "stream",
     "text": [
      "CREATE TABLE clientes (\n",
      "    ID INTEGER PRIMARY KEY,\n",
      "    NOMBRE TEXT, \n",
      "    APELLIDO TEXT,\n",
      "    DIRECCION TEXT\n",
      ");\n"
     ]
    }
   ],
   "source": [
    "!cat SqlScripts/crearTable.sql"
   ]
  },
  {
   "cell_type": "markdown",
   "metadata": {},
   "source": [
    "## 19. Insertar valores "
   ]
  },
  {
   "cell_type": "code",
   "execution_count": null,
   "metadata": {},
   "outputs": [],
   "source": []
  },
  {
   "cell_type": "markdown",
   "metadata": {},
   "source": [
    "## Lista de comandos\n",
    "La lista de comandos de SQL más usados:  \n",
    "\n",
    "\n",
    "ID | Comandos | Comentarios  \n",
    "-- | -------- | -----------\n",
    "1  | select   | ...\n",
    "2  | distinct | ... \n",
    "3  | where    | ...\n",
    "4  | and / or | ... \n",
    "5  | in       | ...\n",
    "6  | between  | ...\n",
    "7  | like     | ...\n",
    "8  | order by | ...\n",
    "9  | group by | ...\n",
    "10 | count    | ...\n",
    "11 | create table | ... \n",
    "12 | drop table   | ...\n",
    "13 | create index | ...\n",
    "14 | drop index   | ...\n",
    "15 | desc         | ...\n",
    "16 | truncate table | ...\n",
    "17 | alter table    | ...\n",
    "18 | alter table    | ...\n",
    "19 | insert into    | ... \n",
    "20 | update         | ...\n",
    "21 | delete         | ...\n",
    "22 | create database | ...\n",
    "23 | drop database   | ...\n",
    "24 | use             | ... \n",
    "25 | commint         | ... \n",
    "26 | rollback        | ... \n",
    "27 | join            | ... \n",
    "28 | union all       | ... \n",
    "29 | intersect       | ... \n",
    "30 | create views    | ... \n",
    "31 | having          | ... \n",
    "32 | save point      | ... \n",
    "33 | release         | ...\n",
    "34 | set transaction | ... \n",
    "35 | create temporary | ... "
   ]
  }
 ],
 "metadata": {
  "kernelspec": {
   "display_name": "Python 3",
   "language": "python",
   "name": "python3"
  },
  "language_info": {
   "codemirror_mode": {
    "name": "ipython",
    "version": 3
   },
   "file_extension": ".py",
   "mimetype": "text/x-python",
   "name": "python",
   "nbconvert_exporter": "python",
   "pygments_lexer": "ipython3",
   "version": "3.8.5"
  }
 },
 "nbformat": 4,
 "nbformat_minor": 4
}
