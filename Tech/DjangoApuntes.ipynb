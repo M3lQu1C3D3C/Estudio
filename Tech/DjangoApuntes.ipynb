{
 "cells": [
  {
   "cell_type": "markdown",
   "metadata": {},
   "source": [
    "# Apuntes de Django  \n",
    "## 1. Primeros pasos  \n",
    "La manera de iniciar un proyecto en Django 3.0.3 es:  \n",
    "```bash\n",
    "$ django-admin startproject nameProject\n",
    "\n",
    "```\n",
    "Ya que django es una suma de aplicaciones, la forma de crear una aplicación es: \n",
    "\n",
    "```bash\n",
    "$ python manage.py startapp nameApp\n",
    "\n",
    "```\n",
    "la cual podemos reutilizar en otros proyectos. Antes de usarlo tenemos que asuegurarnos que el nombre \n",
    "de la aplicación esté explicitamente en la tupla INSTALLED_APPS del archivo settings.py\n",
    "\n",
    "Para crear la base de datos y ver si nuestro proyecto esta listo:  \n",
    "\n",
    "```bash\n",
    "$ python manage.py migrate\n",
    "\n",
    "```\n",
    "\n",
    "Para correr el servidor y ver nuestro proyecto es  \n",
    "\n",
    "```bash\n",
    "$ python manage.py runserver \n",
    "```\n",
    "\n",
    "**¿Qué es ser superusario es Django? **  \n"
   ]
  }
 ],
 "metadata": {
  "kernelspec": {
   "display_name": "Python 3",
   "language": "python",
   "name": "python3"
  },
  "language_info": {
   "codemirror_mode": {
    "name": "ipython",
    "version": 3
   },
   "file_extension": ".py",
   "mimetype": "text/x-python",
   "name": "python",
   "nbconvert_exporter": "python",
   "pygments_lexer": "ipython3",
   "version": "3.8.5"
  }
 },
 "nbformat": 4,
 "nbformat_minor": 4
}
