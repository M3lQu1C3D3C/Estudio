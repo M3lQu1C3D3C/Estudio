{
 "cells": [
  {
   "cell_type": "markdown",
   "metadata": {},
   "source": [
    "## 1. Convertir un archivo csv a una tabla latex  \n",
    "El archivo "
   ]
  },
  {
   "cell_type": "markdown",
   "metadata": {},
   "source": [
    "## N.Glosario  \n",
    "### N.1 Data  \n",
    "**ID** | **Comando** | **Comentario**    \n",
    "-------| ------------| ------------  \n",
    "1 | awk |  \n",
    "2 | cmp |  \n",
    "3 | comm |  \n",
    "4 | cut |  \n",
    "5 | diff |  \n",
    "6 | expand |  \n",
    "7 | join |  \n",
    "8 | perl |  \n",
    "9 | sed |  \n",
    "10 | sort |  \n",
    "11 | splite |  \n",
    "12 | tr |  \n",
    "13 | uniq |  \n",
    "14 | wc |  \n",
    "15 | vi |  \n",
    "16 | vim |  \n",
    "17 | fmt |  \n",
    "18 | spell |  \n",
    "19 | ispell |  \n",
    "20 | emacs |  \n",
    "21 | edit, ex |  \n",
    "22 | emacs |  "
   ]
  }
 ],
 "metadata": {
  "kernelspec": {
   "display_name": "Python 3",
   "language": "python",
   "name": "python3"
  },
  "language_info": {
   "codemirror_mode": {
    "name": "ipython",
    "version": 3
   },
   "file_extension": ".py",
   "mimetype": "text/x-python",
   "name": "python",
   "nbconvert_exporter": "python",
   "pygments_lexer": "ipython3",
   "version": "3.8.5"
  }
 },
 "nbformat": 4,
 "nbformat_minor": 4
}
