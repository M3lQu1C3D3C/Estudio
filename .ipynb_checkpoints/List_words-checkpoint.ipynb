{
 "cells": [
  {
   "cell_type": "markdown",
   "metadata": {},
   "source": [
    "# Listar las 1000 palabras más usadas del inglés usando Web Scraping  \n",
    "Tener un buen volcabulario es requisito mínimo para poder dominar el inglés. Este programa intenta ayudar con la recopilación de las 1000 palabras más usadas del idioma de norteamérica.  \n",
    "## 1. Recopilación de las palabras usando Web Scraping  \n",
    "Se usarán los siguientes paquetes:  "
   ]
  },
  {
   "cell_type": "code",
   "execution_count": 20,
   "metadata": {},
   "outputs": [],
   "source": [
    "from bs4 import BeautifulSoup # Obtención de las palabras (datos).\n",
    "import requests # Obtener el html completo.\n",
    "import re # Limpieza de las palabras.\n",
    "import pandas as pd # Guardar en formato csv"
   ]
  },
  {
   "cell_type": "markdown",
   "metadata": {},
   "source": [
    "Consulta al sitio web"
   ]
  },
  {
   "cell_type": "code",
   "execution_count": 27,
   "metadata": {
    "colab": {
     "base_uri": "https://localhost:8080/"
    },
    "id": "thUpcKNhBIDw",
    "outputId": "93ae7759-19fd-4f54-f2a1-e79a654ea569"
   },
   "outputs": [],
   "source": [
    "# URL  del sitio web\n",
    "url = \"https://www.gonaturalenglish.com/1000-most-common-words-in-the-english-language/\"\n",
    "# Obtención del sitio web\n",
    "req = requests.get(url)\n",
    "# Creación del objeto BeautifulSoup en formato html\n",
    "soup = BeautifulSoup(req.text, \"html.parser\")"
   ]
  },
  {
   "cell_type": "markdown",
   "metadata": {},
   "source": [
    "## 2. Tratamiento de los datos obtenidos  \n",
    "Un buen análisis del sitio web nos dará una buena recopilación de las palabras."
   ]
  },
  {
   "cell_type": "code",
   "execution_count": 28,
   "metadata": {
    "colab": {
     "base_uri": "https://localhost:8080/"
    },
    "id": "P3r1VzDHBjWt",
    "outputId": "b4d07db0-9409-4eee-b87b-9d3dc2f5b629"
   },
   "outputs": [],
   "source": [
    "# Filtro de las palabras enlistadas\n",
    "palabras = soup.find_all(\"li\")\n",
    "# Listas de almacenamiento\n",
    "palabraList = []\n",
    "ejemploList = []\n",
    "for item in palabras[10:1010]:\n",
    "  # Obtención de las palabras \n",
    "  word = str(item.contents[0].contents[0])\n",
    "  # Obtención de sus ejemplos de cada palabra\n",
    "  ejemplo = str(item.contents[1].string)\n",
    "  # Limpieza de los ejemplos \n",
    "  ubi = ejemplo.index(re.findall(\"[A-Z]\", ejemplo)[0])\n",
    "  # Almacenamiento de datos\n",
    "  palabraList.append(word)\n",
    "  ejemploList.append(ejemplo[ubi:-1])"
   ]
  },
  {
   "cell_type": "markdown",
   "metadata": {},
   "source": [
    "## 3. Guardar las palabras en un archivo CSV"
   ]
  },
  {
   "cell_type": "code",
   "execution_count": 29,
   "metadata": {},
   "outputs": [],
   "source": [
    "datos =  {\"Palabras\": palabraList, \"Ejemplos \": ejemploList}\n",
    "data = pd.DataFrame(datos)\n",
    "data.to_csv(\"palabras.csv\")"
   ]
  }
 ],
 "metadata": {
  "colab": {
   "name": "List_words.ipynb",
   "provenance": []
  },
  "kernelspec": {
   "display_name": "Python 3",
   "language": "python",
   "name": "python3"
  },
  "language_info": {
   "codemirror_mode": {
    "name": "ipython",
    "version": 3
   },
   "file_extension": ".py",
   "mimetype": "text/x-python",
   "name": "python",
   "nbconvert_exporter": "python",
   "pygments_lexer": "ipython3",
   "version": "3.8.5"
  }
 },
 "nbformat": 4,
 "nbformat_minor": 4
}
